{
 "cells": [
  {
   "cell_type": "code",
   "execution_count": 1,
   "id": "2ba46f55",
   "metadata": {},
   "outputs": [],
   "source": [
    "import json\n",
    "import regex as re"
   ]
  },
  {
   "cell_type": "code",
   "execution_count": 5,
   "id": "f1e1a090",
   "metadata": {},
   "outputs": [
    {
     "data": {
      "text/plain": [
       "[[0, 400, 406, 216, 214], [0, 784, 291, 95, 129], '0000000001-1-Image.png']"
      ]
     },
     "execution_count": 5,
     "metadata": {},
     "output_type": "execute_result"
    }
   ],
   "source": [
    "f = open('/Users/justinchen/Desktop/Synthetic Data/50SyntheticAirplanes/annotations/0000000001-1-Image-ana.json',)\n",
    "file = json.load(f)\n",
    "all_file = get_coords(file)\n",
    "all_file"
   ]
  },
  {
   "cell_type": "code",
   "execution_count": null,
   "id": "cddb1722",
   "metadata": {},
   "outputs": [],
   "source": [
    "cwd = os.getcwd()\n",
    "cwd"
   ]
  },
  {
   "cell_type": "code",
   "execution_count": 4,
   "id": "01ccd79e",
   "metadata": {},
   "outputs": [],
   "source": [
    "def get_coords(file):\n",
    "    final_list = []\n",
    "    for i in range(len(file['annotations'])):\n",
    "        temp_list = []\n",
    "        temp_list.append(0) #file['annotations'][i]['id']\n",
    "        for j in range(len(file['annotations'][i]['bbox'])):\n",
    "            temp_list.append(file['annotations'][i]['bbox'][j])\n",
    "        final_list.append(temp_list)\n",
    "    final_list.append(file['filename'])\n",
    "    return final_list"
   ]
  },
  {
   "cell_type": "code",
   "execution_count": 6,
   "id": "14b692ec",
   "metadata": {},
   "outputs": [],
   "source": [
    "def calc_new_coords(coord_list):\n",
    "    new_coord_list = []\n",
    "    temp_coord_list = coord_list[:-1]\n",
    "    for box in temp_coord_list:\n",
    "        new_box = [box[0]]\n",
    "        x_min = box[1]\n",
    "        y_min = box[2]\n",
    "        w = box[3]\n",
    "        h = box[4]\n",
    "        \n",
    "        x_max = x_min + w\n",
    "        y_max = y_min + h\n",
    "        \n",
    "        x_cent = (x_min + x_max) / 2\n",
    "        y_cent = (y_min + y_max) / 2\n",
    "        \n",
    "        new_box.extend([x_cent / 1000, y_cent / 1000, w / 1000, h / 1000])\n",
    "        new_coord_list.append(new_box)\n",
    "    new_coord_list.append(coord_list[-1])\n",
    "    return new_coord_list"
   ]
  },
  {
   "cell_type": "code",
   "execution_count": 7,
   "id": "12dfd7f2",
   "metadata": {},
   "outputs": [
    {
     "name": "stdout",
     "output_type": "stream",
     "text": [
      "[[0, 400, 406, 216, 214], [0, 784, 291, 95, 129], '0000000001-1-Image.png']\n"
     ]
    },
    {
     "data": {
      "text/plain": [
       "[[0, 0.508, 0.513, 0.216, 0.214],\n",
       " [0, 0.8315, 0.3555, 0.095, 0.129],\n",
       " '0000000001-1-Image.png']"
      ]
     },
     "execution_count": 7,
     "metadata": {},
     "output_type": "execute_result"
    }
   ],
   "source": [
    "print(all_file)\n",
    "calc_new_coords(all_file)"
   ]
  },
  {
   "cell_type": "code",
   "execution_count": 8,
   "id": "a5613d42",
   "metadata": {},
   "outputs": [],
   "source": [
    "def write_txt(yolo_list):\n",
    "    file_name = yolo_list[-1][:-4]\n",
    "    f = open(file_name + \".txt\", \"x\")\n",
    "    for i in range(len(yolo_list)-1):\n",
    "        for j in range(len(yolo_list[i])):\n",
    "            f.write(str(yolo_list[i][j]) + \" \")\n",
    "        f.write(\"\\n\")\n",
    "    print('txt file written')\n",
    "    f.close()"
   ]
  },
  {
   "cell_type": "code",
   "execution_count": 9,
   "id": "e8603928",
   "metadata": {},
   "outputs": [
    {
     "name": "stdout",
     "output_type": "stream",
     "text": [
      "txt file written\n"
     ]
    }
   ],
   "source": [
    "write_txt(all_file)"
   ]
  },
  {
   "cell_type": "code",
   "execution_count": 13,
   "id": "97e1f6d0",
   "metadata": {},
   "outputs": [
    {
     "name": "stdout",
     "output_type": "stream",
     "text": [
      "50SyntheticAirplanes/annotations/0000000005-1-Image-ana.json\n",
      "[[0, 0.499, 0.509, 0.128, 0.094], [0, 0.568, 0.314, 0.222, 0.214], '0000000005-1-Image.png']\n",
      "txt file written\n",
      "50SyntheticAirplanes/annotations/0000000024-1-Image-ana.json\n",
      "[[0, 0.5255, 0.522, 0.181, 0.184], [0, 0.5795, 0.271, 0.125, 0.118], [0, 1.001, 0.0835, 0.044, 0.167], [0, 0.8415, 0.2395, 0.181, 0.183], [0, 0.4635, 0.105, 0.185, 0.18], '0000000024-1-Image.png']\n",
      "txt file written\n",
      "50SyntheticAirplanes/annotations/0000000041-1-Image-ana.json\n",
      "[[0, 0.2745, 0.954, 0.101, 0.106], [0, 0.4765, 0.8645, 0.125, 0.117], [0, 0.5355, 0.535, 0.121, 0.122], '0000000041-1-Image.png']\n",
      "txt file written\n",
      "50SyntheticAirplanes/annotations/0000000030-1-Image-ana.json\n",
      "[[0, 0.2555, 0.9355, 0.101, 0.105], [0, 0.059, 0.8255, 0.11, 0.097], [0, 0.494, 0.884, 0.102, 0.106], [0, 0.527, 0.5265, 0.104, 0.103], '0000000030-1-Image.png']\n",
      "txt file written\n",
      "50SyntheticAirplanes/annotations/0000000011-1-Image-ana.json\n",
      "[[0, 0.056, 0.5115, 0.112, 0.095], [0, 0.5085, 0.5125, 0.217, 0.215], [0, 0.1845, 0.152, 0.069, 0.172], '0000000011-1-Image.png']\n",
      "txt file written\n",
      "50SyntheticAirplanes/annotations/0000000015-1-Image-ana.json\n",
      "[[0, 0.517, 0.4905, 0.198, 0.183], '0000000015-1-Image.png']\n",
      "txt file written\n",
      "50SyntheticAirplanes/annotations/0000000034-1-Image-ana.json\n",
      "[[0, 0.8685, 0.218, 0.185, 0.18], [0, 0.5115, 0.503, 0.171, 0.068], '0000000034-1-Image.png']\n",
      "txt file written\n",
      "50SyntheticAirplanes/annotations/0000000020-1-Image-ana.json\n",
      "[[0, 0.0985, 0.8675, 0.131, 0.109], [0, 0.8165, 0.309, 0.179, 0.184], [0, 0.533, 0.537, 0.132, 0.11], [0, 0.313, 0.699, 0.096, 0.11], '0000000020-1-Image.png']\n",
      "txt file written\n",
      "50SyntheticAirplanes/annotations/0000000045-1-Image-ana.json\n",
      "[[0, 0.0175, 0.896, 0.035, 0.118], [0, 0.527, 0.497, 0.118, 0.086], '0000000045-1-Image.png']\n",
      "txt file written\n",
      "50SyntheticAirplanes/annotations/0000000001-1-Image-ana.json\n",
      "[[0, 0.508, 0.513, 0.216, 0.214], [0, 0.8315, 0.3555, 0.095, 0.129], '0000000001-1-Image.png']\n",
      "txt file written\n",
      "50SyntheticAirplanes/annotations/0000000040-1-Image-ana.json\n",
      "[[0, 0.518, 0.526, 0.168, 0.08], '0000000040-1-Image.png']\n",
      "txt file written\n",
      "50SyntheticAirplanes/annotations/0000000025-1-Image-ana.json\n",
      "[[0, 0.5135, 0.512, 0.217, 0.214], [0, 0.8665, 0.1535, 0.129, 0.095], [0, 0.978, 0.5125, 0.09, 0.081], '0000000025-1-Image.png']\n",
      "txt file written\n",
      "50SyntheticAirplanes/annotations/0000000004-1-Image-ana.json\n",
      "[[0, 0.6345, 0.137, 0.133, 0.108], [0, 0.9545, 0.503, 0.137, 0.186], [0, 0.42, 0.3315, 0.178, 0.187], [0, 0.5045, 0.5315, 0.189, 0.177], '0000000004-1-Image.png']\n",
      "txt file written\n",
      "50SyntheticAirplanes/annotations/0000000010-1-Image-ana.json\n",
      "[[0, 0.059, 0.553, 0.118, 0.068], [0, 0.9735, 0.2685, 0.099, 0.095], [0, 0.519, 0.5285, 0.184, 0.179], [0, 0.947, 0.469, 0.128, 0.094], '0000000010-1-Image.png']\n",
      "txt file written\n",
      "50SyntheticAirplanes/annotations/0000000031-1-Image-ana.json\n",
      "[[0, 0.503, 0.5115, 0.068, 0.171], [0, 0.2155, 0.7445, 0.095, 0.129], [0, 0.958, 0.188, 0.13, 0.218], '0000000031-1-Image.png']\n",
      "txt file written\n",
      "50SyntheticAirplanes/annotations/0000000035-1-Image-ana.json\n",
      "[[0, 0.518, 0.526, 0.168, 0.08], '0000000035-1-Image.png']\n",
      "txt file written\n",
      "50SyntheticAirplanes/annotations/0000000014-1-Image-ana.json\n",
      "[[0, 0.134, 0.8765, 0.11, 0.097], [0, 0.448, 0.7075, 0.218, 0.213], [0, 0.511, 0.515, 0.218, 0.214], '0000000014-1-Image.png']\n",
      "txt file written\n",
      "50SyntheticAirplanes/annotations/0000000000-1-Image-ana.json\n",
      "[[0, 0.514, 0.5115, 0.216, 0.215], [0, 0.1385, 0.8705, 0.069, 0.171], [0, 0.3545, 0.251, 0.095, 0.128], [0, 0.939, 0.4755, 0.168, 0.217], [0, 0.633, 0.8715, 0.128, 0.095], '0000000000-1-Image.png']\n",
      "txt file written\n",
      "50SyntheticAirplanes/annotations/0000000044-1-Image-ana.json\n",
      "[[0, 0.5125, 0.501, 0.215, 0.208], '0000000044-1-Image.png']\n",
      "txt file written\n",
      "50SyntheticAirplanes/annotations/0000000021-1-Image-ana.json\n",
      "[[0, 0.5255, 0.4965, 0.089, 0.115], '0000000021-1-Image.png']\n",
      "txt file written\n",
      "50SyntheticAirplanes/annotations/0000000013-1-Image-ana.json\n",
      "[[0, 0.511, 0.515, 0.214, 0.216], [0, 0.9995, 0.371, 0.047, 0.114], '0000000013-1-Image.png']\n",
      "txt file written\n",
      "50SyntheticAirplanes/annotations/0000000048-1-Image-ana.json\n",
      "[[0, 0.527, 0.497, 0.118, 0.086], '0000000048-1-Image.png']\n",
      "txt file written\n",
      "50SyntheticAirplanes/annotations/0000000032-1-Image-ana.json\n",
      "[[0, 0.5, 0.508, 0.074, 0.17], [0, 0.1505, 0.679, 0.185, 0.18], [0, 0.5455, 0.309, 0.129, 0.094], '0000000032-1-Image.png']\n",
      "txt file written\n",
      "50SyntheticAirplanes/annotations/0000000043-1-Image-ana.json\n",
      "[[0, 0.5115, 0.503, 0.171, 0.068], [0, 0.8925, 0.2685, 0.109, 0.097], '0000000043-1-Image.png']\n",
      "txt file written\n",
      "50SyntheticAirplanes/annotations/0000000018-1-Image-ana.json\n",
      "[[0, 0.2615, 0.8715, 0.129, 0.095], [0, 0.514, 0.5115, 0.216, 0.215], [0, 0.6555, 0.8715, 0.069, 0.171], [0, 0.4575, 0.3055, 0.095, 0.129], '0000000018-1-Image.png']\n",
      "txt file written\n",
      "50SyntheticAirplanes/annotations/0000000026-1-Image-ana.json\n",
      "[[0, 0.606, 0.1885, 0.178, 0.187], [0, 0.504, 0.5315, 0.19, 0.177], [0, 0.8445, 0.0375, 0.085, 0.075], '0000000026-1-Image.png']\n",
      "txt file written\n",
      "50SyntheticAirplanes/annotations/0000000007-1-Image-ana.json\n",
      "[[0, 0.208, 0.1775, 0.132, 0.109], [0, 0.7375, 0.3595, 0.131, 0.109], [0, 0.964, 0.2, 0.096, 0.11], [0, 0.533, 0.537, 0.132, 0.11], '0000000007-1-Image.png']\n",
      "txt file written\n",
      "50SyntheticAirplanes/annotations/0000000039-1-Image-ana.json\n",
      "[[0, 0.5125, 0.52, 0.171, 0.068], '0000000039-1-Image.png']\n",
      "txt file written\n",
      "50SyntheticAirplanes/annotations/0000000003-1-Image-ana.json\n",
      "[[0, 0.531, 0.4845, 0.14, 0.099], '0000000003-1-Image.png']\n",
      "txt file written\n",
      "50SyntheticAirplanes/annotations/0000000047-1-Image-ana.json\n",
      "[[0, 0.505, 0.5315, 0.198, 0.181], [0, 0.1435, 0.7075, 0.143, 0.097], '0000000047-1-Image.png']\n",
      "txt file written\n",
      "50SyntheticAirplanes/annotations/0000000022-1-Image-ana.json\n",
      "[[0, 0.7185, 0.427, 0.125, 0.118], [0, 0.985, 0.3285, 0.076, 0.113], [0, 0.4545, 0.7635, 0.125, 0.117], [0, 0.5255, 0.522, 0.181, 0.184], [0, 0.237, 0.4885, 0.11, 0.097], '0000000022-1-Image.png']\n",
      "txt file written\n",
      "50SyntheticAirplanes/annotations/0000000036-1-Image-ana.json\n",
      "[[0, 0.9345, 0.6405, 0.177, 0.183], [0, 0.518, 0.495, 0.184, 0.178], [0, 0.98, 0.387, 0.086, 0.106], '0000000036-1-Image.png']\n",
      "txt file written\n",
      "50SyntheticAirplanes/annotations/0000000008-1-Image-ana.json\n",
      "[[0, 0.5, 0.5085, 0.074, 0.171], [0, 0.1825, 0.6645, 0.111, 0.131], [0, 0.519, 0.309, 0.22, 0.214], '0000000008-1-Image.png']\n",
      "txt file written\n",
      "50SyntheticAirplanes/annotations/0000000029-1-Image-ana.json\n",
      "[[0, 0.1245, 0.7975, 0.117, 0.087], [0, 0.5265, 0.497, 0.117, 0.086], '0000000029-1-Image.png']\n",
      "txt file written\n",
      "50SyntheticAirplanes/annotations/0000000017-1-Image-ana.json\n",
      "[[0, 0.5345, 0.536, 0.125, 0.118], [0, 0.318, 0.429, 0.11, 0.13], [0, 0.4625, 0.7715, 0.125, 0.117], [0, 0.9415, 0.269, 0.163, 0.182], [0, 0.7925, 0.5, 0.181, 0.184], '0000000017-1-Image.png']\n",
      "txt file written\n",
      "50SyntheticAirplanes/annotations/0000000033-1-Image-ana.json\n",
      "[[0, 0.4845, 0.5325, 0.105, 0.135], [0, 0.5995, 0.157, 0.179, 0.186], [0, 0.8295, 0.0455, 0.179, 0.091], '0000000033-1-Image.png']\n",
      "txt file written\n",
      "50SyntheticAirplanes/annotations/0000000049-1-Image-ana.json\n",
      "[[0, 0.48, 0.1375, 0.158, 0.091], [0, 0.4365, 0.371, 0.127, 0.09], [0, 0.173, 0.2045, 0.088, 0.125], [0, 0.7555, 0.413, 0.199, 0.21], [0, 0.525, 0.5335, 0.158, 0.091], '0000000049-1-Image.png']\n",
      "txt file written\n",
      "50SyntheticAirplanes/annotations/0000000012-1-Image-ana.json\n",
      "[[0, 0.1655, 0.7265, 0.143, 0.097], [0, 0.53, 0.517, 0.182, 0.198], [0, 0.7985, 0.3895, 0.097, 0.143], '0000000012-1-Image.png']\n",
      "txt file written\n",
      "50SyntheticAirplanes/annotations/0000000006-1-Image-ana.json\n",
      "[[0, 0.533, 0.537, 0.132, 0.11], [0, 0.7865, 0.271, 0.127, 0.114], [0, 0.1515, 0.917, 0.179, 0.186], [0, 0.3665, 0.7655, 0.131, 0.109], '0000000006-1-Image.png']\n",
      "txt file written\n",
      "50SyntheticAirplanes/annotations/0000000038-1-Image-ana.json\n",
      "[[0, 0.418, 0.7075, 0.128, 0.095], [0, 0.1045, 0.8585, 0.185, 0.179], [0, 0.5255, 0.5135, 0.129, 0.095], '0000000038-1-Image.png']\n",
      "txt file written\n",
      "50SyntheticAirplanes/annotations/0000000019-1-Image-ana.json\n",
      "[[0, 0.495, 0.503, 0.084, 0.166], '0000000019-1-Image.png']\n",
      "txt file written\n",
      "50SyntheticAirplanes/annotations/0000000027-1-Image-ana.json\n",
      "[[0, 0.5385, 0.493, 0.097, 0.144], '0000000027-1-Image.png']\n",
      "txt file written\n",
      "50SyntheticAirplanes/annotations/0000000042-1-Image-ana.json\n",
      "[[0, 0.053, 0.5115, 0.106, 0.095], [0, 0.8695, 0.2955, 0.095, 0.129], [0, 0.209, 0.152, 0.068, 0.172], [0, 0.5245, 0.5125, 0.129, 0.095], '0000000042-1-Image.png']\n",
      "txt file written\n",
      "50SyntheticAirplanes/annotations/0000000023-1-Image-ana.json\n",
      "[[0, 0.5275, 0.497, 0.109, 0.098], [0, 0.111, 0.094, 0.128, 0.114], '0000000023-1-Image.png']\n",
      "txt file written\n",
      "50SyntheticAirplanes/annotations/0000000046-1-Image-ana.json\n",
      "[[0, 0.4985, 0.5115, 0.129, 0.095], [0, 0.9715, 0.5125, 0.103, 0.095], [0, 0.0205, 0.15, 0.041, 0.01], '0000000046-1-Image.png']\n",
      "txt file written\n",
      "50SyntheticAirplanes/annotations/0000000002-1-Image-ana.json\n",
      "[[0, 0.512, 0.51, 0.214, 0.218], [0, 0.147, 0.3125, 0.128, 0.095], '0000000002-1-Image.png']\n",
      "txt file written\n",
      "50SyntheticAirplanes/annotations/0000000028-1-Image-ana.json\n",
      "[[0, 0.0335, 0.967, 0.067, 0.112], [0, 0.5125, 0.52, 0.171, 0.068], '0000000028-1-Image.png']\n",
      "txt file written\n",
      "50SyntheticAirplanes/annotations/0000000016-1-Image-ana.json\n",
      "[[0, 0.309, 0.923, 0.182, 0.198], [0, 0.525, 0.527, 0.086, 0.118], [0, 0.854, 0.451, 0.118, 0.086], '0000000016-1-Image.png']\n",
      "txt file written\n",
      "50SyntheticAirplanes/annotations/0000000037-1-Image-ana.json\n",
      "[[0, 0.525, 0.5335, 0.158, 0.091], [0, 0.509, 0.316, 0.126, 0.09], [0, 0.754, 0.4345, 0.158, 0.091], [0, 0.466, 0.1235, 0.198, 0.211], [0, 0.164, 0.1865, 0.158, 0.091], '0000000037-1-Image.png']\n",
      "txt file written\n",
      "50SyntheticAirplanes/annotations/0000000009-1-Image-ana.json\n",
      "[[0, 0.839, 0.477, 0.112, 0.094], [0, 0.709, 0.3125, 0.132, 0.109], [0, 0.978, 0.643, 0.09, 0.184], [0, 0.4925, 0.5045, 0.179, 0.187], '0000000009-1-Image.png']\n",
      "txt file written\n"
     ]
    }
   ],
   "source": [
    "import os\n",
    "# assign directory\n",
    "directory = '50SyntheticAirplanes/annotations'\n",
    " \n",
    "# iterate over files in\n",
    "# that directory\n",
    "for filename in os.listdir(directory):\n",
    "    f = os.path.join(directory, filename)\n",
    "    # checking if it is a file\n",
    "    if os.path.isfile(f):\n",
    "        print(f)\n",
    "        JsonFile = open(f)\n",
    "        file = json.load(JsonFile)\n",
    "        coord_list = get_coords(file)\n",
    "        new_coord_list = calc_new_coords(coord_list)\n",
    "        print(new_coord_list)\n",
    "        write_txt(new_coord_list)"
   ]
  },
  {
   "cell_type": "code",
   "execution_count": 14,
   "id": "945d97f2",
   "metadata": {},
   "outputs": [],
   "source": [
    "def write_data():\n",
    "    f = open(\"obj.data\", \"x\")\n",
    "    f.write('classes = 1')\n",
    "    f.write(\"\\n\")\n",
    "    \n",
    "    f.write('train = data/train.txt')\n",
    "    f.write(\"\\n\")\n",
    "    \n",
    "    f.write('valid = data/test.txt')\n",
    "    f.write(\"\\n\")\n",
    "    \n",
    "    f.write('names = data/obj.names')\n",
    "    f.write(\"\\n\")\n",
    "    \n",
    "    f.write('backup = /mydrive/yolov4/training')\n",
    "    f.write(\"\\n\")\n",
    "    \n",
    "    print('.data file written')\n",
    "    f.close()"
   ]
  },
  {
   "cell_type": "code",
   "execution_count": 15,
   "id": "ccafc1ec",
   "metadata": {},
   "outputs": [
    {
     "name": "stdout",
     "output_type": "stream",
     "text": [
      ".data file written\n"
     ]
    }
   ],
   "source": [
    "write_data()"
   ]
  },
  {
   "cell_type": "code",
   "execution_count": 16,
   "id": "030f4539",
   "metadata": {},
   "outputs": [],
   "source": [
    "def write_names():\n",
    "    f = open(\"obj.names\", \"x\")\n",
    "    f.write('plane')\n",
    "    f.close()"
   ]
  },
  {
   "cell_type": "code",
   "execution_count": 17,
   "id": "5d93bd43",
   "metadata": {},
   "outputs": [],
   "source": [
    "write_names()"
   ]
  }
 ],
 "metadata": {
  "kernelspec": {
   "display_name": "Python 3 (ipykernel)",
   "language": "python",
   "name": "python3"
  },
  "language_info": {
   "codemirror_mode": {
    "name": "ipython",
    "version": 3
   },
   "file_extension": ".py",
   "mimetype": "text/x-python",
   "name": "python",
   "nbconvert_exporter": "python",
   "pygments_lexer": "ipython3",
   "version": "3.8.2"
  }
 },
 "nbformat": 4,
 "nbformat_minor": 5
}
