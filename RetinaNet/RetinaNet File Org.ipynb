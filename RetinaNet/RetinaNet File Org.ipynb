{
 "cells": [
  {
   "cell_type": "code",
   "execution_count": 5,
   "id": "3e707f1d-bb6a-4c77-bf75-724bf9a2e952",
   "metadata": {
    "tags": []
   },
   "outputs": [],
   "source": [
    "import shutil"
   ]
  },
  {
   "cell_type": "markdown",
   "id": "10a1176e-cb05-43b1-91e7-98c2160245eb",
   "metadata": {},
   "source": [
    "## Copying and Splitting Files from Roboflow"
   ]
  },
  {
   "cell_type": "code",
   "execution_count": 34,
   "id": "ee94da6f-ecac-454f-9403-1322ef27a936",
   "metadata": {
    "tags": []
   },
   "outputs": [],
   "source": [
    "import os\n",
    "# assign directory\n",
    "train = '/Users/justinchen/Downloads/polar bears.v1i.voc/train'\n",
    "test = '/Users/justinchen/Downloads/polar bears.v1i.voc/valid'\n",
    "\n",
    "save_annote = '/Users/justinchen/Desktop/Synthetic-Data/RetinaNet/dataset/Annotations'\n",
    "save_img = '/Users/justinchen/Desktop/Synthetic-Data/RetinaNet/dataset/JPEGImages'\n",
    " \n",
    "# iterate over files in\n",
    "# that directory\n",
    "for filename in os.listdir(train):\n",
    "    if '.xml' in filename:\n",
    "        new_name = filename.split('.')[0]\n",
    "        new_name += \".xml\"\n",
    "        new_name = os.path.join(train, new_name)\n",
    "        f = os.path.join(train, filename)\n",
    "        os.rename(f, new_name)\n",
    "        shutil.copy(new_name, save_annote)\n",
    "    if '.jpg' in filename:\n",
    "        new_name = filename.split('.')[0]\n",
    "        new_name += \".jpg\"\n",
    "        new_name = os.path.join(train, new_name)\n",
    "        f = os.path.join(train, filename)\n",
    "        os.rename(f, new_name)\n",
    "        shutil.copy(new_name, save_img)\n",
    "        \n",
    "for filename in os.listdir(test):\n",
    "    if '.xml' in filename:\n",
    "        new_name = filename.split('.')[0]\n",
    "        new_name += \".xml\"\n",
    "        new_name = os.path.join(test, new_name)\n",
    "        f = os.path.join(test, filename)\n",
    "        os.rename(f, new_name)\n",
    "        shutil.copy(new_name, save_annote)\n",
    "    if '.jpg' in filename:\n",
    "        new_name = filename.split('.')[0]\n",
    "        new_name += \".jpg\"\n",
    "        new_name = os.path.join(test, new_name)\n",
    "        f = os.path.join(test, filename)\n",
    "        os.rename(f, new_name)\n",
    "        shutil.copy(new_name, save_img)"
   ]
  }
 ],
 "metadata": {
  "kernelspec": {
   "display_name": "Python 3 (ipykernel)",
   "language": "python",
   "name": "python3"
  },
  "language_info": {
   "codemirror_mode": {
    "name": "ipython",
    "version": 3
   },
   "file_extension": ".py",
   "mimetype": "text/x-python",
   "name": "python",
   "nbconvert_exporter": "python",
   "pygments_lexer": "ipython3",
   "version": "3.11.2"
  }
 },
 "nbformat": 4,
 "nbformat_minor": 5
}
