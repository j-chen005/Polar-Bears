{
 "cells": [
  {
   "cell_type": "code",
   "execution_count": 7,
   "id": "2ba46f55",
   "metadata": {},
   "outputs": [],
   "source": [
    "import json\n",
    "import regex as re\n",
    "import os"
   ]
  },
  {
   "cell_type": "code",
   "execution_count": 8,
   "id": "cddb1722",
   "metadata": {},
   "outputs": [
    {
     "data": {
      "text/plain": [
       "'/Users/justinchen/Desktop/GitHub/Polar-Bears-Synthetic-Data/YOLO'"
      ]
     },
     "execution_count": 8,
     "metadata": {},
     "output_type": "execute_result"
    }
   ],
   "source": [
    "cwd = os.getcwd()\n",
    "cwd"
   ]
  },
  {
   "cell_type": "code",
   "execution_count": 12,
   "id": "01ccd79e",
   "metadata": {},
   "outputs": [],
   "source": [
    "def get_coords(file):\n",
    "    final_list = []\n",
    "    if file['annotations'] == []:\n",
    "        return final_list\n",
    "    for i in range(len(file['annotations'])):\n",
    "        temp_list = []\n",
    "        temp_list.append(0) #file['annotations'][i]['id']\n",
    "        for j in range(len(file['annotations'][i]['bbox'])):\n",
    "            temp_list.append(file['annotations'][i]['bbox'][j])\n",
    "        final_list.append(temp_list)\n",
    "    final_list.append(file['filename'])\n",
    "    return final_list"
   ]
  },
  {
   "cell_type": "code",
   "execution_count": 13,
   "id": "14b692ec",
   "metadata": {},
   "outputs": [],
   "source": [
    "def calc_new_coords(coord_list, img_size):\n",
    "    new_coord_list = []\n",
    "    temp_coord_list = coord_list[:-1]\n",
    "    for box in temp_coord_list:\n",
    "        new_box = [box[0]]\n",
    "        x_min = box[1]\n",
    "        y_min = box[2]\n",
    "        w = box[3]\n",
    "        h = box[4]\n",
    "        \n",
    "        x_max = x_min + w\n",
    "        y_max = y_min + h\n",
    "        \n",
    "        x_cent = (x_min + x_max) / 2\n",
    "        y_cent = (y_min + y_max) / 2\n",
    "        print(x_cent)\n",
    "        \n",
    "        new_box.extend([x_cent / img_size, y_cent / img_size, w / img_size, h / img_size])\n",
    "        new_coord_list.append(new_box)\n",
    "    new_coord_list.append(coord_list[-1])\n",
    "    return new_coord_list"
   ]
  },
  {
   "cell_type": "code",
   "execution_count": 14,
   "id": "a5613d42",
   "metadata": {},
   "outputs": [],
   "source": [
    "def write_txt(yolo_list):\n",
    "    if yolo_list == []:\n",
    "        return \n",
    "    file_name = yolo_list[-1][:-4]\n",
    "    #new directory to save txt file to\n",
    "    save_path = '/Users/justinchen/Desktop/Synthetic-Data/YOLO/Datasets/0.25Dataset/obj'\n",
    "    completeName = os.path.join(save_path, file_name)\n",
    "    f = open(completeName + \".txt\", \"x\")\n",
    "    for i in range(len(yolo_list)-1):\n",
    "        for j in range(len(yolo_list[i])):\n",
    "            f.write(str(yolo_list[i][j]) + \" \")\n",
    "        f.write(\"\\n\")\n",
    "    print('txt file written')\n",
    "    f.close()"
   ]
  },
  {
   "cell_type": "code",
   "execution_count": 9,
   "id": "c7f57463",
   "metadata": {},
   "outputs": [],
   "source": [
    "import os"
   ]
  },
  {
   "cell_type": "code",
   "execution_count": null,
   "id": "97e1f6d0",
   "metadata": {},
   "outputs": [],
   "source": [
    "import os\n",
    "# assign directory\n",
    "directory = '/Users/justinchen/Desktop/GitHub/Polar-Bears-Synthetic-Data/50f8d5d7-0add-4323-a3fa-7fdcda8b9e81/annotations'\n",
    " \n",
    "# iterate over files in\n",
    "# that directory\n",
    "for filename in os.listdir(directory):\n",
    "    f = os.path.join(directory, filename)\n",
    "    # checking if it is a file\n",
    "    if os.path.isfile(f):\n",
    "        print(f)\n",
    "        JsonFile = open(f)\n",
    "        file = json.load(JsonFile)\n",
    "        coord_list = get_coords(file)\n",
    "        if not coord_list == []:\n",
    "            new_coord_list = calc_new_coords(coord_list, 320)\n",
    "            print(new_coord_list)\n",
    "            write_txt(new_coord_list)"
   ]
  },
  {
   "cell_type": "code",
   "execution_count": 16,
   "id": "b0d65f5f",
   "metadata": {},
   "outputs": [
    {
     "name": "stdout",
     "output_type": "stream",
     "text": [
      "Images removed: 0\n",
      "Images left: 1500\n"
     ]
    }
   ],
   "source": [
    "directory = '/Users/justinchen/Desktop/Synthetic-Data/YOLO/Datasets/0.25Dataset/obj'\n",
    "count = 0\n",
    "for filename in os.listdir(directory):\n",
    "    newfilename = filename.split('.')[0]\n",
    "#     print(filename)\n",
    "#     print(filename + \".txt\")\n",
    "    if not os.path.exists(directory + '/' + newfilename + \".txt\"):\n",
    "        print(filename)\n",
    "        os.remove(directory + '/' + filename)\n",
    "        count += 1\n",
    "print(\"Images removed:\", count)\n",
    "print(\"Images left:\", 1500-count)"
   ]
  },
  {
   "cell_type": "code",
   "execution_count": null,
   "id": "78157414-6597-4439-b85e-663878993591",
   "metadata": {},
   "outputs": [],
   "source": [
    "import os\n",
    "import cv2\n",
    "from xml.dom.minidom import parseString\n",
    "from lxml.etree import Element, SubElement, tostring\n",
    "import numpy as np\n",
    "from os.path import join\n",
    "\n",
    "## coco classes\n",
    "YOLO_CLASSES = ('polar bear')\n",
    "train = '/Users/justinchen/Desktop/Synthetic-Data/YOLO/Datasets/0.30Dataset/obj'\n",
    "for filename in os.listdir(train):\n",
    "    if '.txt' in filename:"
   ]
  },
  {
   "cell_type": "code",
   "execution_count": null,
   "id": "c5a7593c-b210-4e94-8553-e9946c4ae322",
   "metadata": {},
   "outputs": [],
   "source": [
    "## converts the normalized positions  into integer positions\n",
    "def unconvert(class_id, width, height, x, y, w, h):\n",
    "\n",
    "    xmax = int((x*width) + (w * width)/2.0)\n",
    "    xmin = int((x*width) - (w * width)/2.0)\n",
    "    ymax = int((y*height) + (h * height)/2.0)\n",
    "    ymin = int((y*height) - (h * height)/2.0)\n",
    "    class_id = int(class_id)\n",
    "    return (class_id, xmin, xmax, ymin, ymax)\n",
    "\n",
    "\n",
    "## path root folder\n",
    "ROOT = 'coco'\n",
    "\n",
    "\n",
    "## converts coco into xml \n",
    "def xml_transform(root, classes):  \n",
    "    class_path  = join(root, 'labels')\n",
    "    ids = list()\n",
    "    l=os.listdir(class_path)\n",
    "    \n",
    "    check = '.DS_Store' in l\n",
    "    if check == True:\n",
    "        l.remove('.DS_Store')\n",
    "        \n",
    "    ids=[x.split('.')[0] for x in l]   \n",
    "\n",
    "    annopath = join(root, 'labels', '%s.txt')\n",
    "    imgpath = join(root, 'images', '%s.jpg')\n",
    "    \n",
    "    os.makedirs(join(root, 'outputs'), exist_ok=True)\n",
    "    outpath = join(root, 'outputs', '%s.xml')\n",
    "\n",
    "    for i in range(len(ids)):\n",
    "        img_id = ids[i] \n",
    "        if img_id == \"classes\":\n",
    "            continue\n",
    "        if os.path.exists(outpath % img_id):\n",
    "            continue\n",
    "        print(imgpath % img_id)\n",
    "        img= cv2.imread(imgpath % img_id)\n",
    "        height, width, channels = img.shape # pega tamanhos e canais das images\n",
    "\n",
    "        node_root = Element('annotation')\n",
    "        node_folder = SubElement(node_root, 'folder')\n",
    "        node_folder.text = 'VOC2007'\n",
    "        img_name = img_id + '.jpg'\n",
    "    \n",
    "        node_filename = SubElement(node_root, 'filename')\n",
    "        node_filename.text = img_name\n",
    "        \n",
    "        node_source= SubElement(node_root, 'source')\n",
    "        node_database = SubElement(node_source, 'database')\n",
    "        node_database.text = 'Coco database'\n",
    "        \n",
    "        node_size = SubElement(node_root, 'size')\n",
    "        node_width = SubElement(node_size, 'width')\n",
    "        node_width.text = str(width)\n",
    "    \n",
    "        node_height = SubElement(node_size, 'height')\n",
    "        node_height.text = str(height)\n",
    "\n",
    "        node_depth = SubElement(node_size, 'depth')\n",
    "        node_depth.text = str(channels)\n",
    "\n",
    "        node_segmented = SubElement(node_root, 'segmented')\n",
    "        node_segmented.text = '0'\n",
    "\n",
    "        target = (annopath % img_id)\n",
    "        if os.path.exists(target):\n",
    "            label_norm= np.loadtxt(target).reshape(-1, 5)\n",
    "\n",
    "            for i in range(len(label_norm)):\n",
    "                labels_conv = label_norm[i]\n",
    "                new_label = unconvert(labels_conv[0], width, height, labels_conv[1], labels_conv[2], labels_conv[3], labels_conv[4])\n",
    "                node_object = SubElement(node_root, 'object')\n",
    "                node_name = SubElement(node_object, 'name')\n",
    "                node_name.text = classes[new_label[0]]\n",
    "                \n",
    "                node_pose = SubElement(node_object, 'pose')\n",
    "                node_pose.text = 'Unspecified'\n",
    "                \n",
    "                \n",
    "                node_truncated = SubElement(node_object, 'truncated')\n",
    "                node_truncated.text = '0'\n",
    "                node_difficult = SubElement(node_object, 'difficult')\n",
    "                node_difficult.text = '0'\n",
    "                node_bndbox = SubElement(node_object, 'bndbox')\n",
    "                node_xmin = SubElement(node_bndbox, 'xmin')\n",
    "                node_xmin.text = str(new_label[1])\n",
    "                node_ymin = SubElement(node_bndbox, 'ymin')\n",
    "                node_ymin.text = str(new_label[3])\n",
    "                node_xmax = SubElement(node_bndbox, 'xmax')\n",
    "                node_xmax.text =  str(new_label[2])\n",
    "                node_ymax = SubElement(node_bndbox, 'ymax')\n",
    "                node_ymax.text = str(new_label[4])\n",
    "                xml = tostring(node_root, pretty_print=True)  \n",
    "                dom = parseString(xml)\n",
    "        print(xml)  \n",
    "        f =  open(outpath % img_id, \"wb\")\n",
    "        #f = open(os.path.join(outpath, img_id), \"w\")\n",
    "        #os.remove(target)\n",
    "        f.write(xml)\n",
    "        f.close()     "
   ]
  },
  {
   "cell_type": "code",
   "execution_count": null,
   "id": "b50fbb98-27d5-406a-88dd-dba062b27143",
   "metadata": {},
   "outputs": [],
   "source": [
    "xml_transform(ROOT, YOLO_CLASSES)"
   ]
  },
  {
   "cell_type": "code",
   "execution_count": 14,
   "id": "945d97f2",
   "metadata": {},
   "outputs": [],
   "source": [
    "def write_data():\n",
    "    f = open(\"obj.data\", \"x\")\n",
    "    f.write('classes = 1')\n",
    "    f.write(\"\\n\")\n",
    "    \n",
    "    f.write('train = data/train.txt')\n",
    "    f.write(\"\\n\")\n",
    "    \n",
    "    f.write('valid = data/test.txt')\n",
    "    f.write(\"\\n\")\n",
    "    \n",
    "    f.write('names = data/obj.names')\n",
    "    f.write(\"\\n\")\n",
    "    \n",
    "    f.write('backup = /mydrive/yolov4/training')\n",
    "    f.write(\"\\n\")\n",
    "    \n",
    "    print('.data file written')\n",
    "    f.close()"
   ]
  },
  {
   "cell_type": "code",
   "execution_count": 15,
   "id": "ccafc1ec",
   "metadata": {},
   "outputs": [
    {
     "name": "stdout",
     "output_type": "stream",
     "text": [
      ".data file written\n"
     ]
    }
   ],
   "source": [
    "write_data()"
   ]
  },
  {
   "cell_type": "code",
   "execution_count": 95,
   "id": "030f4539",
   "metadata": {},
   "outputs": [],
   "source": [
    "def write_names():\n",
    "    f = open(\"obj.names\", \"x\")\n",
    "    f.write('polar bear')\n",
    "    f.close()"
   ]
  },
  {
   "cell_type": "code",
   "execution_count": 97,
   "id": "5d93bd43",
   "metadata": {},
   "outputs": [],
   "source": [
    "write_names()"
   ]
  }
 ],
 "metadata": {
  "kernelspec": {
   "display_name": "Python 3 (ipykernel)",
   "language": "python",
   "name": "python3"
  },
  "language_info": {
   "codemirror_mode": {
    "name": "ipython",
    "version": 3
   },
   "file_extension": ".py",
   "mimetype": "text/x-python",
   "name": "python",
   "nbconvert_exporter": "python",
   "pygments_lexer": "ipython3",
   "version": "3.10.9"
  }
 },
 "nbformat": 4,
 "nbformat_minor": 5
}
